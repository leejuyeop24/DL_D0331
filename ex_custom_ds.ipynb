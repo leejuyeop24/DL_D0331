{
 "cells": [
  {
   "cell_type": "markdown",
   "metadata": {},
   "source": [
    "[사용자 정의 데이터셋]  "
   ]
  },
  {
   "cell_type": "markdown",
   "metadata": {},
   "source": [
    "- torch.utils.data.Dataset을 상속받아 직접 커스텀 데이터셋 생성  \n",
    "- torch.utils.data.Dataset은 미완성의 추상 클래스(Abstract Class)"
   ]
  },
  {
   "cell_type": "markdown",
   "metadata": {},
   "source": [
    "! 반드시 구현 해야하는 메서드들\n",
    "* def _ _init_ _(self) : 데이터셋 전처리 / 초기화 메서드\n",
    "* def _ _len_ _(self) : 데이터셋 길이 반환 메서드\n",
    "* def _ _getitem_ _(self) : idx 해당 데이터 1개 반환하는 메서드 "
   ]
  },
  {
   "cell_type": "code",
   "execution_count": 1,
   "metadata": {},
   "outputs": [],
   "source": [
    "# [1-1] 모듈 로딩\n",
    "import torch\n",
    "import torch.functional as F\n",
    "from torch.utils.data import Dataset\t# 인공신경망 관련 클래스 메서드\n",
    "from torch.utils.data import DataLoader\t# 인공신경망 관련 클래스 메서드"
   ]
  },
  {
   "cell_type": "code",
   "execution_count": 2,
   "metadata": {},
   "outputs": [],
   "source": [
    "# [1-2] Custom Dataset 생성\n",
    "class CustomDataset(Dataset):\n",
    "\t# 초기화\n",
    "\tdef __init__(self):\n",
    "\t\tself.x_data = [[73, 80, 75],\n",
    "\t\t\t\t \t   [93, 88, 93],\n",
    "\t\t\t\t\t   [89, 91, 90],\n",
    "\t\t\t\t\t   [96, 98, 100],\n",
    "\t\t\t\t\t   [73, 66, 70]]\n",
    "\t\tself.y_data = [[152],\n",
    "\t\t\t\t \t   [185],\n",
    "\t\t\t\t\t   [180],\n",
    "\t\t\t\t\t   [196],\n",
    "\t\t\t\t\t   [142]]\n",
    "\t\t\n",
    "\t# 총 데이터의 개수 리턴\n",
    "\tdef __len__(self):\n",
    "\t\tprint('__len__')\n",
    "\t\treturn len(self.x_data)\n",
    "\t\n",
    "\t# 인덱스에 해당하는 입출력 데이터를 파이토치의 Tensor 형태로 리턴\n",
    "\tdef __getitem__(self, idx):\n",
    "\t\tprint(f'__getitem__{idx}')\n",
    "\t\tx = torch.FloatTensor(self.x_data[idx])\n",
    "\t\ty = torch.FloatTensor(self.y_data[idx])\n",
    "\t\treturn x, y"
   ]
  },
  {
   "cell_type": "code",
   "execution_count": 3,
   "metadata": {},
   "outputs": [],
   "source": [
    "## [1-3] Dataset 객체 생성\n",
    "dataset = CustomDataset()"
   ]
  },
  {
   "cell_type": "code",
   "execution_count": 4,
   "metadata": {},
   "outputs": [
    {
     "name": "stdout",
     "output_type": "stream",
     "text": [
      "__len__\n",
      "5\n",
      "__getitem__1\n",
      "(tensor([93., 88., 93.]), tensor([185.]))\n"
     ]
    }
   ],
   "source": [
    "# 생성된 객체 확인\n",
    "print(len(dataset))\n",
    "print(dataset[1])"
   ]
  },
  {
   "cell_type": "markdown",
   "metadata": {},
   "source": [
    "[ DataLoader로 데이터 로딩 ]"
   ]
  },
  {
   "cell_type": "code",
   "execution_count": 5,
   "metadata": {},
   "outputs": [
    {
     "name": "stdout",
     "output_type": "stream",
     "text": [
      "__len__\n",
      "__len__\n"
     ]
    }
   ],
   "source": [
    "# [2-1] DataLoader 객체 속성들\n",
    "d_loader = DataLoader(dataset, batch_size=2, shuffle=True)"
   ]
  },
  {
   "cell_type": "code",
   "execution_count": 6,
   "metadata": {},
   "outputs": [
    {
     "name": "stdout",
     "output_type": "stream",
     "text": [
      "2\n",
      "[[73, 80, 75], [93, 88, 93], [89, 91, 90], [96, 98, 100], [73, 66, 70]]\n",
      "[[152], [185], [180], [196], [142]]\n"
     ]
    }
   ],
   "source": [
    "# [2-2] DataLoader 객체 속성들\n",
    "\n",
    "# 한 번에 학습할 데이터량\n",
    "print(d_loader.batch_size)\n",
    "\n",
    "# 학습에 사용할 데이터셋\n",
    "print(d_loader.dataset.x_data)\n",
    "print(d_loader.dataset.y_data)"
   ]
  },
  {
   "cell_type": "code",
   "execution_count": 7,
   "metadata": {},
   "outputs": [
    {
     "name": "stdout",
     "output_type": "stream",
     "text": [
      "__len__\n",
      "__len__\n",
      "__getitem__4\n",
      "__getitem__2\n",
      "tensor([[73., 66., 70.],\n",
      "        [89., 91., 90.]])\n",
      "tensor([[142.],\n",
      "        [180.]])\n"
     ]
    }
   ],
   "source": [
    "# [2-3] 데이터 추출\n",
    "for feature, label in d_loader:\n",
    "\tprint(feature, label, sep='\\n')\n",
    "\tbreak"
   ]
  }
 ],
 "metadata": {
  "kernelspec": {
   "display_name": "DL_TORCH",
   "language": "python",
   "name": "python3"
  },
  "language_info": {
   "codemirror_mode": {
    "name": "ipython",
    "version": 3
   },
   "file_extension": ".py",
   "mimetype": "text/x-python",
   "name": "python",
   "nbconvert_exporter": "python",
   "pygments_lexer": "ipython3",
   "version": "3.9.21"
  }
 },
 "nbformat": 4,
 "nbformat_minor": 2
}
