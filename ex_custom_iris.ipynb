{
 "cells": [
  {
   "cell_type": "markdown",
   "metadata": {},
   "source": [
    "[Custom Dataset]"
   ]
  },
  {
   "cell_type": "markdown",
   "metadata": {},
   "source": [
    "- 데이터셋 : iris.csv\n",
    "- 커스텀 데이터셋 : irisDataset"
   ]
  },
  {
   "cell_type": "code",
   "execution_count": 25,
   "metadata": {},
   "outputs": [],
   "source": [
    "# [1-1] 모듈 로딩\n",
    "import torch\n",
    "import torch.nn as nn\n",
    "from torch.utils.data import Dataset, DataLoader\n",
    "\n",
    "import pandas as pd\n",
    "import numpy as np"
   ]
  },
  {
   "cell_type": "code",
   "execution_count": 26,
   "metadata": {},
   "outputs": [],
   "source": [
    "iris_df = pd.read_csv('../data/iris.csv')"
   ]
  },
  {
   "cell_type": "code",
   "execution_count": 27,
   "metadata": {},
   "outputs": [
    {
     "name": "stderr",
     "output_type": "stream",
     "text": [
      "C:\\Users\\KDP-35\\AppData\\Local\\Temp\\ipykernel_16668\\3756841308.py:2: FutureWarning: Downcasting behavior in `replace` is deprecated and will be removed in a future version. To retain the old behavior, explicitly call `result.infer_objects(copy=False)`. To opt-in to the future behavior, set `pd.set_option('future.no_silent_downcasting', True)`\n",
      "  iris_df.variety = iris_df.variety.replace({'Setosa':0, 'Versicolor':1, 'Virginica':2})\n"
     ]
    },
    {
     "data": {
      "text/plain": [
       "0      0\n",
       "1      0\n",
       "2      0\n",
       "3      0\n",
       "4      0\n",
       "      ..\n",
       "145    2\n",
       "146    2\n",
       "147    2\n",
       "148    2\n",
       "149    2\n",
       "Name: variety, Length: 150, dtype: int64"
      ]
     },
     "execution_count": 27,
     "metadata": {},
     "output_type": "execute_result"
    }
   ],
   "source": [
    "# [1-2] 데이터 전처리\n",
    "iris_df.variety = iris_df.variety.replace({'Setosa':0, 'Versicolor':1, 'Virginica':2})\n",
    "\n",
    "iris_df.variety"
   ]
  },
  {
   "cell_type": "code",
   "execution_count": 28,
   "metadata": {},
   "outputs": [],
   "source": [
    "# [2-1] 커스텀 데이터셋 클래스 설계 및 구현"
   ]
  },
  {
   "cell_type": "code",
   "execution_count": 29,
   "metadata": {},
   "outputs": [],
   "source": [
    "# iris 전용 데이터셋 클래스\n",
    "class irisDataset(Dataset):\n",
    "    # 피쳐와 타겟 분리 및 전처리 진행\n",
    "    def __init__(self, featureDF, targetDF):\n",
    "        super().__init__()\n",
    "        self.feature = featureDF\n",
    "        self.target = targetDF\n",
    "        self.rows = featureDF.shape[0]\n",
    "        self.cols = featureDF.shape[1]\n",
    "        \n",
    "        \n",
    "    # 데이터셋 샘플 수 반환 메서드\n",
    "    def __len__(self):\n",
    "        return self.rows\n",
    "    \n",
    "        \n",
    "    # DataLoader에서 batch_size 만큼 호출하는 메서드ge\n",
    "    # 인덱스에 해당하는 피쳐와 타겟 반환\n",
    "    # 단, Tensor 형태여야 한다\n",
    "    def __getitem__(self, index):\n",
    "        arr_feature = self.feature.iloc[index].values\n",
    "        arr_target = self.target.iloc[index].values\n",
    "        \n",
    "        return torch.FloatTensor(arr_feature), torch.FloatTensor(arr_target)"
   ]
  },
  {
   "cell_type": "code",
   "execution_count": 30,
   "metadata": {},
   "outputs": [
    {
     "name": "stdout",
     "output_type": "stream",
     "text": [
      "피쳐 : (150, 4), 타겟 : (150, 1)\n"
     ]
    }
   ],
   "source": [
    "# 데이터셋 인스턴스 생성\n",
    "featureDF = iris_df[iris_df.columns[:-1]]\n",
    "targetDF = iris_df[iris_df.columns[-1:]]\n",
    "print(f'피쳐 : {featureDF.shape}, 타겟 : {targetDF.shape}')"
   ]
  },
  {
   "cell_type": "code",
   "execution_count": 31,
   "metadata": {},
   "outputs": [
    {
     "data": {
      "text/plain": [
       "(tensor([4.9000, 3.0000, 1.4000, 0.2000]), tensor([0.]))"
      ]
     },
     "execution_count": 31,
     "metadata": {},
     "output_type": "execute_result"
    }
   ],
   "source": [
    "data_set = irisDataset(featureDF, targetDF)\n",
    "data_set[1]"
   ]
  },
  {
   "cell_type": "code",
   "execution_count": 32,
   "metadata": {},
   "outputs": [],
   "source": [
    "# DataLoader 연동"
   ]
  },
  {
   "cell_type": "code",
   "execution_count": 33,
   "metadata": {},
   "outputs": [
    {
     "data": {
      "text/plain": [
       "<torch.utils.data.dataloader.DataLoader at 0x263bbba1fa0>"
      ]
     },
     "execution_count": 33,
     "metadata": {},
     "output_type": "execute_result"
    }
   ],
   "source": [
    "# DataLoader 인스턴스 생성\n",
    "loader = DataLoader(data_set, batch_size=10, shuffle=True)\n",
    "loader"
   ]
  },
  {
   "cell_type": "code",
   "execution_count": 34,
   "metadata": {},
   "outputs": [
    {
     "name": "stdout",
     "output_type": "stream",
     "text": [
      "tensor([[6.3000, 2.8000, 5.1000, 1.5000],\n",
      "        [6.0000, 2.9000, 4.5000, 1.5000],\n",
      "        [5.7000, 4.4000, 1.5000, 0.4000],\n",
      "        [5.7000, 2.8000, 4.1000, 1.3000],\n",
      "        [5.0000, 3.2000, 1.2000, 0.2000],\n",
      "        [5.1000, 3.5000, 1.4000, 0.3000],\n",
      "        [6.1000, 3.0000, 4.6000, 1.4000],\n",
      "        [5.5000, 4.2000, 1.4000, 0.2000],\n",
      "        [7.4000, 2.8000, 6.1000, 1.9000],\n",
      "        [6.0000, 2.7000, 5.1000, 1.6000]])\n",
      "tensor([[2.],\n",
      "        [1.],\n",
      "        [0.],\n",
      "        [1.],\n",
      "        [0.],\n",
      "        [0.],\n",
      "        [1.],\n",
      "        [0.],\n",
      "        [2.],\n",
      "        [1.]])\n"
     ]
    }
   ],
   "source": [
    "# batch_size = 10 이라서 10개 가져옴\n",
    "# shuffle = True 라서 랜덤으로 10개 가져옴 \n",
    "\n",
    "for feature, target in loader:\n",
    "    print(feature, target, sep='\\n')\n",
    "    break"
   ]
  }
 ],
 "metadata": {
  "kernelspec": {
   "display_name": "DL_TORCH",
   "language": "python",
   "name": "python3"
  },
  "language_info": {
   "codemirror_mode": {
    "name": "ipython",
    "version": 3
   },
   "file_extension": ".py",
   "mimetype": "text/x-python",
   "name": "python",
   "nbconvert_exporter": "python",
   "pygments_lexer": "ipython3",
   "version": "3.9.21"
  }
 },
 "nbformat": 4,
 "nbformat_minor": 2
}
